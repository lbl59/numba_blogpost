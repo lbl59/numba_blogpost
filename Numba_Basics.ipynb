{
 "cells": [
  {
   "cell_type": "code",
   "execution_count": 1,
   "id": "497de62c",
   "metadata": {},
   "outputs": [],
   "source": [
    "import numpy as np\n",
    "import numba\n",
    "from numba import jit"
   ]
  },
  {
   "cell_type": "markdown",
   "id": "c3c218a3",
   "metadata": {},
   "source": [
    "### The @jit decorator"
   ]
  },
  {
   "cell_type": "code",
   "execution_count": 35,
   "id": "0e6530e4",
   "metadata": {},
   "outputs": [],
   "source": [
    "# a function that does multiple matrix multiplication\n",
    "@jit(nopython=True)\n",
    "def matrix_multiplication(A, x):\n",
    "    b = np.empty(shape=(x.shape[0],1), dtype=np.float64)\n",
    "    for i in range(x.shape[0]):\n",
    "        b[i] = np.dot(A[i,:], x)\n",
    "    return b"
   ]
  },
  {
   "cell_type": "code",
   "execution_count": 36,
   "id": "cece954b",
   "metadata": {},
   "outputs": [
    {
     "data": {
      "text/plain": [
       "array([[2.79814834],\n",
       "       [2.60367089],\n",
       "       [3.64898388],\n",
       "       [2.46134003],\n",
       "       [2.20620761],\n",
       "       [2.35963373],\n",
       "       [2.78546053],\n",
       "       [1.56009935],\n",
       "       [3.57130984],\n",
       "       [2.58911908]])"
      ]
     },
     "execution_count": 36,
     "metadata": {},
     "output_type": "execute_result"
    }
   ],
   "source": [
    "A = np.random.rand(10, 10)\n",
    "x = np.random.rand(10, 1)\n",
    "a_complicated_function(A,x)"
   ]
  },
  {
   "cell_type": "code",
   "execution_count": 37,
   "id": "1a4d194a",
   "metadata": {},
   "outputs": [
    {
     "name": "stdout",
     "output_type": "stream",
     "text": [
      "11.4 µs ± 7.34 µs per loop (mean ± std. dev. of 7 runs, 1 loop each)\n"
     ]
    }
   ],
   "source": [
    "%timeit matrix_multiplication(A,x)"
   ]
  },
  {
   "cell_type": "code",
   "execution_count": 38,
   "id": "1a2a89a8",
   "metadata": {},
   "outputs": [
    {
     "name": "stdout",
     "output_type": "stream",
     "text": [
      "35.5 µs ± 3.5 µs per loop (mean ± std. dev. of 7 runs, 10000 loops each)\n"
     ]
    }
   ],
   "source": [
    "%timeit matrix_multiplication.py_func(A,x)"
   ]
  },
  {
   "cell_type": "code",
   "execution_count": 59,
   "id": "5b3a3515",
   "metadata": {},
   "outputs": [],
   "source": [
    "# Calculate percentage relative error\n",
    "def numpy_re(x, true):\n",
    "    return np.abs(((x - true)/true))*100\n",
    "\n",
    "numba_re = jit(nopython=True)(numpy_re)"
   ]
  },
  {
   "cell_type": "code",
   "execution_count": 60,
   "id": "c44be6d8",
   "metadata": {},
   "outputs": [
    {
     "data": {
      "text/plain": [
       "array([[56.99126084],\n",
       "       [40.1849741 ],\n",
       "       [14.89169085],\n",
       "       [84.30874992],\n",
       "       [ 9.60118043],\n",
       "       [ 7.56524974],\n",
       "       [33.54230711],\n",
       "       [35.38826731],\n",
       "       [65.90336653],\n",
       "       [20.51053746]])"
      ]
     },
     "execution_count": 60,
     "metadata": {},
     "output_type": "execute_result"
    }
   ],
   "source": [
    "numba_re(x, 0.66)"
   ]
  },
  {
   "cell_type": "code",
   "execution_count": 61,
   "id": "5fc2f081",
   "metadata": {},
   "outputs": [
    {
     "name": "stdout",
     "output_type": "stream",
     "text": [
      "2.61 µs ± 118 ns per loop (mean ± std. dev. of 7 runs, 100000 loops each)\n",
      "687 ns ± 40 ns per loop (mean ± std. dev. of 7 runs, 1000000 loops each)\n"
     ]
    }
   ],
   "source": [
    "%timeit numpy_re(x, 0.66)\n",
    "%timeit numba_re(x, 0.66)"
   ]
  },
  {
   "cell_type": "markdown",
   "id": "798445c6",
   "metadata": {},
   "source": [
    "### Inline parallelization with multi-threading"
   ]
  },
  {
   "cell_type": "code",
   "execution_count": 39,
   "id": "3ff19e4c",
   "metadata": {},
   "outputs": [],
   "source": [
    "SQRT_2PI = np.sqrt(2 * np.pi)\n",
    "\n",
    "@jit(nopython=True, parallel=True)\n",
    "def normals(x, means, sds):\n",
    "    n = means.shape[0]\n",
    "    result = np.exp(-0.5*((x - means)/sds)**2)\n",
    "    return (1 / (sds * np.sqrt(2*np.pi))) * result"
   ]
  },
  {
   "cell_type": "code",
   "execution_count": 48,
   "id": "bb77d90b",
   "metadata": {},
   "outputs": [
    {
     "data": {
      "text/plain": [
       "array([4.38580749e-01, 2.79653674e-12, 1.16879868e+00, ...,\n",
       "       3.01820734e-01, 1.60402426e+00, 2.64271255e+00])"
      ]
     },
     "execution_count": 48,
     "metadata": {},
     "output_type": "execute_result"
    }
   ],
   "source": [
    "means = np.random.uniform(-1,1, size=10**8)\n",
    "sds = np.random.uniform(0.1, 0.2, size=10**8)\n",
    "\n",
    "normals(0.6, means, sds)"
   ]
  },
  {
   "cell_type": "code",
   "execution_count": 49,
   "id": "69da6fad",
   "metadata": {},
   "outputs": [
    {
     "name": "stdout",
     "output_type": "stream",
     "text": [
      "3.24 s ± 757 ms per loop (mean ± std. dev. of 7 runs, 1 loop each)\n"
     ]
    }
   ],
   "source": [
    "normals_deco_nothread = jit(nopython=True)(normals.py_func)\n",
    "%timeit normals_deco_nothread(0.6, means, sds)"
   ]
  },
  {
   "cell_type": "code",
   "execution_count": 51,
   "id": "affab1ff",
   "metadata": {},
   "outputs": [
    {
     "name": "stdout",
     "output_type": "stream",
     "text": [
      "7.38 s ± 759 ms per loop (mean ± std. dev. of 7 runs, 1 loop each)\n"
     ]
    }
   ],
   "source": [
    "%timeit normals.py_func(0.6, means, sds)"
   ]
  },
  {
   "cell_type": "code",
   "execution_count": 52,
   "id": "8742f6cf",
   "metadata": {},
   "outputs": [
    {
     "name": "stdout",
     "output_type": "stream",
     "text": [
      "933 ms ± 155 ms per loop (mean ± std. dev. of 7 runs, 1 loop each)\n"
     ]
    }
   ],
   "source": [
    "%timeit normals(0.6, means, sds)"
   ]
  }
 ],
 "metadata": {
  "kernelspec": {
   "display_name": "Python 3",
   "language": "python",
   "name": "python3"
  },
  "language_info": {
   "codemirror_mode": {
    "name": "ipython",
    "version": 3
   },
   "file_extension": ".py",
   "mimetype": "text/x-python",
   "name": "python",
   "nbconvert_exporter": "python",
   "pygments_lexer": "ipython3",
   "version": "3.9.1"
  }
 },
 "nbformat": 4,
 "nbformat_minor": 5
}
